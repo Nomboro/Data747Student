{
 "cells": [
  {
   "attachments": {},
   "cell_type": "markdown",
   "metadata": {},
   "source": [
    "## Lab Assignment: Introduction to Pandas\n",
    "Student:     **Nickson Omboro**\n",
    "\n",
    "### Objective: To introduce data manipulation and analysis in Python using Pandas and understand Pandas data structures and basic operations.\n",
    "\n",
    "### Instructions:\n",
    "In this lab assignment, you will be introduced to data manipulation and analysis in Python using Pandas. You will learn how to create and manipulate Pandas data structures, perform basic data analysis and cleaning operations, and apply built-in functions to analyze and transform the data.\n",
    "\n",
    "You will be provided with the following five problems to solve. Please read the problem statement carefully and implement the solution using Pandas.\n",
    "\n",
    "1. Read a CSV file into a Pandas DataFrame.\n",
    "2. Display the first 5 rows of a Pandas DataFrame.\n",
    "3. Display the last 5 rows of a Pandas DataFrame.\n",
    "4. Create a new column in a Pandas DataFrame by combining two existing columns.\n",
    "5. Group a Pandas DataFrame by a specific column and calculate the mean of another column for each group.\n",
    "\n",
    "### Deliverable:\n",
    "Modify this notebook to include the python code as well as any documentation related to your submission.  Submit the notebook as your response in Blackboard.\n",
    "\n",
    "### Grading Criteria:\n",
    "\n",
    "Your lab assignment will be graded based on the following criteria:\n",
    "\n",
    "- Correctness of the implementation\n",
    "- Proper use of basic control structures and functions\n",
    "- Code efficiency\n",
    "- Clarity and readability of the code\n",
    "- Compliance with the instructions and deliverables.\n",
    "\n",
    "### Student Submission\n",
    "1.  Read a CSV file into a Pandas DataFrame."
   ]
  },
  {
   "cell_type": "code",
   "execution_count": 14,
   "metadata": {},
   "outputs": [
    {
     "name": "stdout",
     "output_type": "stream",
     "text": [
      "     ID  Type State  Amount\n",
      "0   801   Red    IL     150\n",
      "1   802   Red    MO     350\n",
      "2   803  Blue    KY      22\n",
      "3   804  Blue    NY       1\n",
      "4   805  Blue    FL     235\n",
      "5   806   Red    CA      15\n",
      "6   807   Red    HI      15\n",
      "7   808   Red    WI      77\n",
      "8   809   Red    IL     562\n",
      "9   810  Blue    IL      87\n",
      "10  811  Blue    FL      14\n",
      "11  812  Blue    MO      57\n",
      "12  813   Red    ND       3\n",
      "13  814   Red    NE     189\n",
      "14  815  Blue    MA      22\n",
      "15  816   Red    PA       5\n",
      "16  817   Red    PA     546\n",
      "17  818   Red    AZ      45\n",
      "18  819  Blue    IL     100\n",
      "19  820   Red    IL      72\n",
      "20  821   Red    IL      95\n",
      "21  822  Blue    MO      88\n",
      "22  823  Blue    WI       4\n",
      "23  824  Blue    WI      78\n",
      "24  825   Red    TX     135\n",
      "25  826  Blue    TX      25\n",
      "26  827  Blue    RI      75\n",
      "27  828   Red    NH      50\n",
      "28  829  Blue    ND     100\n"
     ]
    }
   ],
   "source": [
    "import pandas as pd\n",
    "\n",
    "df = pd.read_csv(\"sample.csv\")\n",
    "\n",
    "print(df)\n",
    "\n",
    "\n",
    "\n"
   ]
  },
  {
   "attachments": {},
   "cell_type": "markdown",
   "metadata": {},
   "source": [
    "2.  Display the first 5 rows of a Pandas DataFrame."
   ]
  },
  {
   "cell_type": "code",
   "execution_count": 10,
   "metadata": {},
   "outputs": [
    {
     "name": "stdout",
     "output_type": "stream",
     "text": [
      "    ID  Type State  Amount\n",
      "0  801   Red    IL     150\n",
      "1  802   Red    MO     350\n",
      "2  803  Blue    KY      22\n",
      "3  804  Blue    NY       1\n",
      "4  805  Blue    FL     235\n"
     ]
    }
   ],
   "source": [
    "import pandas as pd\n",
    "\n",
    "df = pd.read_csv(\"sample.csv\")\n",
    "\n",
    "print(df.head())\n"
   ]
  },
  {
   "attachments": {},
   "cell_type": "markdown",
   "metadata": {},
   "source": [
    "3.  Display the last 5 rows of a Pandas DataFrame."
   ]
  },
  {
   "cell_type": "code",
   "execution_count": 12,
   "metadata": {},
   "outputs": [
    {
     "name": "stdout",
     "output_type": "stream",
     "text": [
      "     ID  Type State  Amount\n",
      "24  825   Red    TX     135\n",
      "25  826  Blue    TX      25\n",
      "26  827  Blue    RI      75\n",
      "27  828   Red    NH      50\n",
      "28  829  Blue    ND     100\n"
     ]
    }
   ],
   "source": [
    "import pandas as pd\n",
    "\n",
    "df = pd.read_csv(\"sample.csv\")\n",
    "\n",
    "print(df.tail())\n"
   ]
  },
  {
   "attachments": {},
   "cell_type": "markdown",
   "metadata": {},
   "source": [
    "4.  Create a new column in a Pandas DataFrame by combining two existing columns."
   ]
  },
  {
   "cell_type": "code",
   "execution_count": 14,
   "metadata": {},
   "outputs": [
    {
     "name": "stdout",
     "output_type": "stream",
     "text": [
      "  first_name last_name       full_name\n",
      "0       Paul  Franklin   Paul Franklin\n",
      "1     Judith     Simon    Judith Simon\n",
      "2     Esther   Johnson  Esther Johnson\n"
     ]
    }
   ],
   "source": [
    "import pandas as pd\n",
    "\n",
    "data = {\n",
    "    'first_name': ['Paul', 'Judith', 'Esther'],\n",
    "    'last_name': ['Franklin', 'Simon', 'Johnson']\n",
    "}\n",
    "df = pd.DataFrame(data)\n",
    "\n",
    "df['full_name'] = df['first_name'] + ' ' + df['last_name']\n",
    "\n",
    "print(df)\n"
   ]
  },
  {
   "attachments": {},
   "cell_type": "markdown",
   "metadata": {},
   "source": [
    "5.  Group a Pandas DataFrame by a specific column and calculate the mean of another column for each group."
   ]
  },
  {
   "cell_type": "code",
   "execution_count": 18,
   "metadata": {},
   "outputs": [
    {
     "name": "stdout",
     "output_type": "stream",
     "text": [
      "  group     value\n",
      "0     A  5.333333\n",
      "1     B  9.500000\n",
      "2     C  8.000000\n"
     ]
    }
   ],
   "source": [
    "import pandas as pd\n",
    "\n",
    "data = {\n",
    "    'group': ['A', 'B', 'A', 'B', 'A', 'C'],\n",
    "    'value': [4, 9, 5, 10, 7, 8]\n",
    "}\n",
    "df = pd.DataFrame(data)\n",
    "\n",
    "mean_values = df.groupby('group')['value'].mean().reset_index()\n",
    "\n",
    "print(mean_values)\n"
   ]
  },
  {
   "cell_type": "code",
   "execution_count": null,
   "metadata": {},
   "outputs": [],
   "source": []
  }
 ],
 "metadata": {
  "kernelspec": {
   "display_name": "anaconda-panel-2023.05-py310",
   "language": "python",
   "name": "conda-env-anaconda-panel-2023.05-py310-py"
  },
  "language_info": {
   "codemirror_mode": {
    "name": "ipython",
    "version": 3
   },
   "file_extension": ".py",
   "mimetype": "text/x-python",
   "name": "python",
   "nbconvert_exporter": "python",
   "pygments_lexer": "ipython3",
   "version": "3.11.5"
  }
 },
 "nbformat": 4,
 "nbformat_minor": 4
}
